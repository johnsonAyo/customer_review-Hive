{
  "nbformat": 4,
  "nbformat_minor": 0,
  "metadata": {
    "colab": {
      "provenance": [],
      "authorship_tag": "ABX9TyNikMthCOGX12RLw3nvVFzg",
      "include_colab_link": true
    },
    "kernelspec": {
      "name": "python3",
      "display_name": "Python 3"
    },
    "language_info": {
      "name": "python"
    }
  },
  "cells": [
    {
      "cell_type": "markdown",
      "metadata": {
        "id": "view-in-github",
        "colab_type": "text"
      },
      "source": [
        "<a href=\"https://colab.research.google.com/github/johnsonAyo/customer_review_analysis_using_Hive/blob/main/customer_review_analysis.ipynb\" target=\"_parent\"><img src=\"https://colab.research.google.com/assets/colab-badge.svg\" alt=\"Open In Colab\"/></a>"
      ]
    },
    {
      "cell_type": "code",
      "source": [
        "[cloudera@quickstart ~]$ hive\n",
        "\n",
        "Logging initialized using configuration in file:/etc/hive/conf.dist/hive-log4j.properties\n",
        "WARNING: Hive CLI is deprecated and migration to Beeline is recommended.\n",
        "hive> create database amazon_reviews;\n",
        "OK\n",
        "Time taken: 0.327 seconds\n",
        "hive> use amazon_reviews;\n",
        "OK\n",
        "Time taken: 0.027 seconds\n",
        "hive> create table game_review(rating int, game_id varchar(15))\n",
        "    > row format delimited fields terminated by '\\t';\n",
        "OK\n",
        "Time taken: 0.417 seconds\n",
        "hive> load data inpath '/user/hive/gaming_dataset.csv' into table game_review;\n",
        "Loading data to table amazon_reviews.game_review\n",
        "Table amazon_reviews.game_review stats: [numFiles=1, totalSize=10415366]\n",
        "OK\n",
        "Time taken: 0.511 seconds"
      ],
      "metadata": {
        "id": "vl9uZToyMEA5"
      },
      "execution_count": null,
      "outputs": []
    },
    {
      "cell_type": "code",
      "source": [
        "hive> select * from game_review limit 10;\n",
        "OK\n",
        "3\tB004A9SDD8\n",
        "5\tB004A9SDD8\n",
        "5\tB004A9SDD8\n",
        "5\tB004A9SDD8\n",
        "5\tB004A9SDD8\n",
        "5\tB004A9SDD8\n",
        "5\tB004A9SDD8\n",
        "5\tB004A9SDD8\n",
        "5\tB004A9SDD8\n",
        "5\tB004A9SDD8\n",
        "Time taken: 0.521 seconds, Fetched: 10 row(s)"
      ],
      "metadata": {
        "id": "eHoql35GMSat"
      },
      "execution_count": null,
      "outputs": []
    },
    {
      "cell_type": "code",
      "source": [
        "hive> select game_id, count(*) as five_star_reviews\n",
        "    > from game_review\n",
        "    > where rating = 5\n",
        "    > group by game_id\n",
        "    > order by five_star_reviews desc\n",
        "    > limit 10;\n",
        "Query ID = cloudera_20240105083535_248ae310-f39a-4eca-a957-03dfb83797a4\n",
        "Total jobs = 2\n",
        "Launching Job 1 out of 2\n",
        "Number of reduce tasks not specified. Estimated from input data size: 1\n",
        "In order to change the average load for a reducer (in bytes):\n",
        "  set hive.exec.reducers.bytes.per.reducer=<number>\n",
        "In order to limit the maximum number of reducers:\n",
        "  set hive.exec.reducers.max=<number>\n",
        "In order to set a constant number of reducers:\n",
        "  set mapreduce.job.reduces=<number>\n",
        "Starting Job = job_1704470223336_0001, Tracking URL = http://quickstart.cloudera:8088/proxy/application_1704470223336_0001/\n",
        "Kill Command = /usr/lib/hadoop/bin/hadoop job  -kill job_1704470223336_0001\n",
        "Hadoop job information for Stage-1: number of mappers: 1; number of reducers: 1\n",
        "2024-01-05 08:36:00,705 Stage-1 map = 0%,  reduce = 0%\n",
        "2024-01-05 08:36:08,218 Stage-1 map = 100%,  reduce = 0%, Cumulative CPU 1.9 sec\n",
        "2024-01-05 08:36:15,555 Stage-1 map = 100%,  reduce = 100%, Cumulative CPU 3.26 sec\n",
        "MapReduce Total cumulative CPU time: 3 seconds 260 msec\n",
        "Ended Job = job_1704470223336_0001\n",
        "Launching Job 2 out of 2\n",
        "Number of reduce tasks determined at compile time: 1\n",
        "In order to change the average load for a reducer (in bytes):\n",
        "  set hive.exec.reducers.bytes.per.reducer=<number>\n",
        "In order to limit the maximum number of reducers:\n",
        "  set hive.exec.reducers.max=<number>\n",
        "In order to set a constant number of reducers:\n",
        "  set mapreduce.job.reduces=<number>\n",
        "Starting Job = job_1704470223336_0002, Tracking URL = http://quickstart.cloudera:8088/proxy/application_1704470223336_0002/\n",
        "Kill Command = /usr/lib/hadoop/bin/hadoop job  -kill job_1704470223336_0002\n",
        "Hadoop job information for Stage-2: number of mappers: 1; number of reducers: 1\n",
        "2024-01-05 08:36:24,611 Stage-2 map = 0%,  reduce = 0%\n",
        "2024-01-05 08:36:31,023 Stage-2 map = 100%,  reduce = 0%, Cumulative CPU 1.13 sec\n",
        "2024-01-05 08:36:38,528 Stage-2 map = 100%,  reduce = 100%, Cumulative CPU 2.43 sec\n",
        "MapReduce Total cumulative CPU time: 2 seconds 430 msec\n",
        "Ended Job = job_1704470223336_0002\n",
        "MapReduce Jobs Launched:\n",
        "Stage-Stage-1: Map: 1  Reduce: 1   Cumulative CPU: 3.26 sec   HDFS Read: 10423502 HDFS Write: 15802 SUCCESS\n",
        "Stage-Stage-2: Map: 1  Reduce: 1   Cumulative CPU: 2.43 sec   HDFS Read: 20992 HDFS Write: 151 SUCCESS\n",
        "Total MapReduce CPU Time Spent: 5 seconds 690 msec\n",
        "OK\n",
        "B004MC8CA2\t1605\n",
        "B004HGK6FW\t723\n",
        "B004H6WTJI\t655\n",
        "B004SBS8LA\t609\n",
        "B004HXHVZ8\t495\n",
        "B004LOMB2Q\t484\n",
        "B004Q3CJQ0\t436\n",
        "B004HE5TAG\t427\n",
        "B004K4RY9M\t394\n",
        "B004DLPXAO\t387\n",
        "Time taken: 52.972 seconds, Fetched: 10 row(s)"
      ],
      "metadata": {
        "id": "U-0cCkqzMkYN"
      },
      "execution_count": null,
      "outputs": []
    },
    {
      "cell_type": "code",
      "execution_count": null,
      "metadata": {
        "id": "AwL_kTGiK9U7"
      },
      "outputs": [],
      "source": [
        "hive>\n",
        "    > select game_id, count(*) as one_star_reviews\n",
        "    > from game_review\n",
        "    > where rating = 1\n",
        "    > group by game_id\n",
        "    > order by one_star_reviews desc\n",
        "    > limit 10;\n",
        "Query ID = cloudera_20240105084545_834dade2-6d68-49d0-ab7d-498e3cc2ca29\n",
        "Total jobs = 2\n",
        "Launching Job 1 out of 2\n",
        "Number of reduce tasks not specified. Estimated from input data size: 1\n",
        "In order to change the average load for a reducer (in bytes):\n",
        "  set hive.exec.reducers.bytes.per.reducer=<number>\n",
        "In order to limit the maximum number of reducers:\n",
        "  set hive.exec.reducers.max=<number>\n",
        "In order to set a constant number of reducers:\n",
        "  set mapreduce.job.reduces=<number>\n",
        "Starting Job = job_1704470223336_0005, Tracking URL = http://quickstart.cloudera:8088/proxy/application_1704470223336_0005/\n",
        "Kill Command = /usr/lib/hadoop/bin/hadoop job  -kill job_1704470223336_0005\n",
        "Hadoop job information for Stage-1: number of mappers: 1; number of reducers: 1\n",
        "2024-01-05 08:45:25,677 Stage-1 map = 0%,  reduce = 0%\n",
        "2024-01-05 08:45:34,017 Stage-1 map = 100%,  reduce = 0%, Cumulative CPU 2.88 sec\n",
        "2024-01-05 08:45:41,359 Stage-1 map = 100%,  reduce = 100%, Cumulative CPU 4.4 sec\n",
        "MapReduce Total cumulative CPU time: 4 seconds 400 msec\n",
        "Ended Job = job_1704470223336_0005\n",
        "Launching Job 2 out of 2\n",
        "Number of reduce tasks determined at compile time: 1\n",
        "In order to change the average load for a reducer (in bytes):\n",
        "  set hive.exec.reducers.bytes.per.reducer=<number>\n",
        "In order to limit the maximum number of reducers:\n",
        "  set hive.exec.reducers.max=<number>\n",
        "In order to set a constant number of reducers:\n",
        "  set mapreduce.job.reduces=<number>\n",
        "Starting Job = job_1704470223336_0006, Tracking URL = http://quickstart.cloudera:8088/proxy/application_1704470223336_0006/\n",
        "Kill Command = /usr/lib/hadoop/bin/hadoop job  -kill job_1704470223336_0006\n",
        "Hadoop job information for Stage-2: number of mappers: 1; number of reducers: 1\n",
        "2024-01-05 08:45:49,816 Stage-2 map = 0%,  reduce = 0%\n",
        "2024-01-05 08:45:55,068 Stage-2 map = 100%,  reduce = 0%, Cumulative CPU 1.01 sec\n",
        "2024-01-05 08:46:01,306 Stage-2 map = 100%,  reduce = 100%, Cumulative CPU 2.36 sec\n",
        "MapReduce Total cumulative CPU time: 2 seconds 360 msec\n",
        "Ended Job = job_1704470223336_0006\n",
        "MapReduce Jobs Launched:\n",
        "Stage-Stage-1: Map: 1  Reduce: 1   Cumulative CPU: 4.4 sec   HDFS Read: 10423565 HDFS Write: 13846 SUCCESS\n",
        "Stage-Stage-2: Map: 1  Reduce: 1   Cumulative CPU: 2.36 sec   HDFS Read: 19034 HDFS Write: 140 SUCCESS\n",
        "Total MapReduce CPU Time Spent: 6 seconds 760 msec\n",
        "OK\n",
        "B004O9G750\t78\n",
        "B004DPCSKI\t75\n",
        "B004FOA84A\t71\n",
        "B004MC8CA2\t70\n",
        "B004SBS8LA\t66\n",
        "B004QJKRZ4\t65\n",
        "B004DPIEF6\t62\n",
        "B004LZIZHU\t61\n",
        "B004HE5TAG\t59\n",
        "B004RJMUJO\t56\n",
        "Time taken: 43.891 seconds, Fetched: 10 row(s)\n",
        "hive>\n"
      ]
    }
  ]
}